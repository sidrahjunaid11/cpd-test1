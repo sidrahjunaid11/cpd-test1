{
 "cells": [
  {
   "cell_type": "code",
   "execution_count": 2,
   "id": "d79914af-d5d1-4d13-a198-24c20a5283d7",
   "metadata": {
    "id": "cc960f80-5940-4484-bea1-b54440ce8743"
   },
   "outputs": [
    {
     "name": "stdout",
     "output_type": "stream",
     "text": [
      "hello\n"
     ]
    }
   ],
   "source": [
    "print(\"hello\")"
   ]
  },
  {
   "cell_type": "code",
   "execution_count": null,
   "id": "bb004b9b-98bb-46ea-bb4d-63cda1d34883",
   "metadata": {
    "id": "bb004b9b-98bb-46ea-bb4d-63cda1d34883"
   },
   "outputs": [],
   "source": []
  }
 ],
 "metadata": {
  "kernelspec": {
   "display_name": "Python 3.11",
   "language": "python",
   "name": "python3"
  },
  "language_info": {
   "codemirror_mode": {
    "name": "ipython",
    "version": 3
   },
   "file_extension": ".py",
   "mimetype": "text/x-python",
   "name": "python",
   "nbconvert_exporter": "python",
   "pygments_lexer": "ipython3",
   "version": "3.11.9"
  }
 },
 "nbformat": 4,
 "nbformat_minor": 5
}
