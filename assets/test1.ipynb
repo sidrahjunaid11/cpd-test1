{
 "cells": [
  {
   "cell_type": "code",
   "execution_count": 1,
   "id": "ce16d070-27f0-4842-a1f8-090a660201a7",
   "metadata": {
    "id": "a844825f-8098-4c6b-91fc-22a28328d575"
   },
   "outputs": [
    {
     "name": "stdout",
     "output_type": "stream",
     "text": [
      "ello\n"
     ]
    }
   ],
   "source": [
    "print(\"ello\")"
   ]
  },
  {
   "cell_type": "code",
   "execution_count": null,
   "id": "165db679-7aae-440b-b08b-7019d807a03e",
   "metadata": {
    "id": "165db679-7aae-440b-b08b-7019d807a03e"
   },
   "outputs": [],
   "source": []
  }
 ],
 "metadata": {
  "kernelspec": {
   "display_name": "Python 3.11",
   "language": "python",
   "name": "python3"
  },
  "language_info": {
   "codemirror_mode": {
    "name": "ipython",
    "version": 3
   },
   "file_extension": ".py",
   "mimetype": "text/x-python",
   "name": "python",
   "nbconvert_exporter": "python",
   "pygments_lexer": "ipython3",
   "version": "3.11.9"
  }
 },
 "nbformat": 4,
 "nbformat_minor": 5
}
